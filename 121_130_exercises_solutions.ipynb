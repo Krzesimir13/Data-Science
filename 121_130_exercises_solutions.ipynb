{
  "nbformat": 4,
  "nbformat_minor": 0,
  "metadata": {
    "colab": {
      "provenance": [],
      "include_colab_link": true
    },
    "kernelspec": {
      "name": "python3",
      "display_name": "Python 3"
    }
  },
  "cells": [
    {
      "cell_type": "markdown",
      "metadata": {
        "id": "view-in-github",
        "colab_type": "text"
      },
      "source": [
        "<a href=\"https://colab.research.google.com/github/Krzesimir13/Data-Science/blob/main/121_130_exercises_solutions.ipynb\" target=\"_parent\"><img src=\"https://colab.research.google.com/assets/colab-badge.svg\" alt=\"Open In Colab\"/></a>"
      ]
    },
    {
      "cell_type": "markdown",
      "metadata": {
        "id": "WLEgCW5F1hho"
      },
      "source": [
        "## Pandas\n",
        "\n",
        "### Spis treści:\n",
        "* [Import biblioteki](#0)\n",
        "* [Ćwiczenie 121](#1)\n",
        "* [Ćwiczenie 122](#2)\n",
        "* [Ćwiczenie 123](#3)\n",
        "* [Ćwiczenie 124](#4)\n",
        "* [Ćwiczenie 125](#5)\n",
        "* [Ćwiczenie 126](#6)\n",
        "* [Ćwiczenie 127](#7)\n",
        "* [Ćwiczenie 128](#8)\n",
        "* [Ćwiczenie 129](#9)\n",
        "* [Ćwiczenie 130](#10)"
      ]
    },
    {
      "cell_type": "markdown",
      "metadata": {
        "id": "zeLOLmTj1kBM"
      },
      "source": [
        "### <a name='0'></a>Import biblioteki"
      ]
    },
    {
      "cell_type": "code",
      "metadata": {
        "id": "HXMB7SMe1Wnz",
        "outputId": "087ea144-1ffc-47eb-c2aa-7153be9f87a6",
        "colab": {
          "base_uri": "https://localhost:8080/",
          "height": 66
        }
      },
      "source": [
        "import numpy as np\n",
        "import pandas as pd\n",
        "import seaborn as sns\n",
        "\n",
        "sns.set()\n",
        "np.__version__"
      ],
      "execution_count": null,
      "outputs": [
        {
          "output_type": "stream",
          "text": [
            "/usr/local/lib/python3.6/dist-packages/statsmodels/tools/_testing.py:19: FutureWarning: pandas.util.testing is deprecated. Use the functions in the public API at pandas.testing instead.\n",
            "  import pandas.util.testing as tm\n"
          ],
          "name": "stderr"
        },
        {
          "output_type": "execute_result",
          "data": {
            "text/plain": [
              "'1.18.2'"
            ]
          },
          "metadata": {
            "tags": []
          },
          "execution_count": 1
        }
      ]
    },
    {
      "cell_type": "markdown",
      "metadata": {
        "id": "d1KXPVTVcwTX"
      },
      "source": [
        "Funkcja _fetch_financial_data()_ pobiera dane dotyczące notowań spółek giełdowych. Będzie wykorzystywana w poniższych ćwiczeniach. Aby pobrać dane konkretnej spółki należy przekazać odpowiedni ticker (symbol) spółki.\n",
        "\n",
        "Kilka przykładowych tickerów spółek:\n",
        "* AMZN - Amazon\n",
        "* GOOGL - Google\n",
        "* MSFT - Microsoft\n",
        "* AAPL - Apple\n",
        "* NKE - Nike\n",
        "* WMT - Walmart"
      ]
    },
    {
      "cell_type": "code",
      "metadata": {
        "id": "gTRegewub5oK"
      },
      "source": [
        "def fetch_financial_data(company='AMZN'):\n",
        "    \"\"\"\n",
        "    This function fetches stock market quotations.\n",
        "    \"\"\"\n",
        "    import pandas_datareader.data as web\n",
        "    return web.DataReader(name=company, data_source='stooq')"
      ],
      "execution_count": null,
      "outputs": []
    },
    {
      "cell_type": "markdown",
      "metadata": {
        "id": "cyc70pMe1oCg"
      },
      "source": [
        "### <a name='1'></a> Ćwiczenie 121\n",
        "Wykorzystując funkcję _fetch_financial_data()_ pobierz notowania dla spółki Google (Alphabet) i przypisz do zmiennej _google_. Wyświetl obiekt _google_."
      ]
    },
    {
      "cell_type": "code",
      "metadata": {
        "id": "LtMEvHZicna7",
        "outputId": "5d909cca-324b-4895-a6b3-de4110f4fe46",
        "colab": {
          "base_uri": "https://localhost:8080/",
          "height": 436
        }
      },
      "source": [
        "google = fetch_financial_data('GOOGL')\n",
        "google"
      ],
      "execution_count": null,
      "outputs": [
        {
          "output_type": "execute_result",
          "data": {
            "text/html": [
              "<div>\n",
              "<style scoped>\n",
              "    .dataframe tbody tr th:only-of-type {\n",
              "        vertical-align: middle;\n",
              "    }\n",
              "\n",
              "    .dataframe tbody tr th {\n",
              "        vertical-align: top;\n",
              "    }\n",
              "\n",
              "    .dataframe thead th {\n",
              "        text-align: right;\n",
              "    }\n",
              "</style>\n",
              "<table border=\"1\" class=\"dataframe\">\n",
              "  <thead>\n",
              "    <tr style=\"text-align: right;\">\n",
              "      <th></th>\n",
              "      <th>Open</th>\n",
              "      <th>High</th>\n",
              "      <th>Low</th>\n",
              "      <th>Close</th>\n",
              "      <th>Volume</th>\n",
              "    </tr>\n",
              "    <tr>\n",
              "      <th>Date</th>\n",
              "      <th></th>\n",
              "      <th></th>\n",
              "      <th></th>\n",
              "      <th></th>\n",
              "      <th></th>\n",
              "    </tr>\n",
              "  </thead>\n",
              "  <tbody>\n",
              "    <tr>\n",
              "      <th>2020-04-23</th>\n",
              "      <td>1265.74</td>\n",
              "      <td>1288.15</td>\n",
              "      <td>1260.5301</td>\n",
              "      <td>1271.17</td>\n",
              "      <td>1710122</td>\n",
              "    </tr>\n",
              "    <tr>\n",
              "      <th>2020-04-22</th>\n",
              "      <td>1241.11</td>\n",
              "      <td>1279.88</td>\n",
              "      <td>1237.2000</td>\n",
              "      <td>1258.41</td>\n",
              "      <td>2315792</td>\n",
              "    </tr>\n",
              "    <tr>\n",
              "      <th>2020-04-21</th>\n",
              "      <td>1242.71</td>\n",
              "      <td>1250.00</td>\n",
              "      <td>1205.0000</td>\n",
              "      <td>1212.16</td>\n",
              "      <td>2482404</td>\n",
              "    </tr>\n",
              "    <tr>\n",
              "      <th>2020-04-20</th>\n",
              "      <td>1269.89</td>\n",
              "      <td>1276.82</td>\n",
              "      <td>1256.4400</td>\n",
              "      <td>1261.15</td>\n",
              "      <td>1764608</td>\n",
              "    </tr>\n",
              "    <tr>\n",
              "      <th>2020-04-17</th>\n",
              "      <td>1281.70</td>\n",
              "      <td>1290.00</td>\n",
              "      <td>1266.0000</td>\n",
              "      <td>1279.00</td>\n",
              "      <td>2552824</td>\n",
              "    </tr>\n",
              "    <tr>\n",
              "      <th>...</th>\n",
              "      <td>...</td>\n",
              "      <td>...</td>\n",
              "      <td>...</td>\n",
              "      <td>...</td>\n",
              "      <td>...</td>\n",
              "    </tr>\n",
              "    <tr>\n",
              "      <th>2015-05-01</th>\n",
              "      <td>549.92</td>\n",
              "      <td>551.22</td>\n",
              "      <td>543.8500</td>\n",
              "      <td>551.16</td>\n",
              "      <td>1828500</td>\n",
              "    </tr>\n",
              "    <tr>\n",
              "      <th>2015-04-30</th>\n",
              "      <td>558.56</td>\n",
              "      <td>561.11</td>\n",
              "      <td>546.7200</td>\n",
              "      <td>548.77</td>\n",
              "      <td>2362000</td>\n",
              "    </tr>\n",
              "    <tr>\n",
              "      <th>2015-04-29</th>\n",
              "      <td>560.51</td>\n",
              "      <td>565.84</td>\n",
              "      <td>559.0000</td>\n",
              "      <td>561.39</td>\n",
              "      <td>1681000</td>\n",
              "    </tr>\n",
              "    <tr>\n",
              "      <th>2015-04-28</th>\n",
              "      <td>564.32</td>\n",
              "      <td>567.83</td>\n",
              "      <td>560.9600</td>\n",
              "      <td>564.37</td>\n",
              "      <td>1859787</td>\n",
              "    </tr>\n",
              "    <tr>\n",
              "      <th>2015-04-27</th>\n",
              "      <td>572.45</td>\n",
              "      <td>575.52</td>\n",
              "      <td>562.3000</td>\n",
              "      <td>566.12</td>\n",
              "      <td>2403100</td>\n",
              "    </tr>\n",
              "  </tbody>\n",
              "</table>\n",
              "<p>1258 rows × 5 columns</p>\n",
              "</div>"
            ],
            "text/plain": [
              "               Open     High        Low    Close   Volume\n",
              "Date                                                     \n",
              "2020-04-23  1265.74  1288.15  1260.5301  1271.17  1710122\n",
              "2020-04-22  1241.11  1279.88  1237.2000  1258.41  2315792\n",
              "2020-04-21  1242.71  1250.00  1205.0000  1212.16  2482404\n",
              "2020-04-20  1269.89  1276.82  1256.4400  1261.15  1764608\n",
              "2020-04-17  1281.70  1290.00  1266.0000  1279.00  2552824\n",
              "...             ...      ...        ...      ...      ...\n",
              "2015-05-01   549.92   551.22   543.8500   551.16  1828500\n",
              "2015-04-30   558.56   561.11   546.7200   548.77  2362000\n",
              "2015-04-29   560.51   565.84   559.0000   561.39  1681000\n",
              "2015-04-28   564.32   567.83   560.9600   564.37  1859787\n",
              "2015-04-27   572.45   575.52   562.3000   566.12  2403100\n",
              "\n",
              "[1258 rows x 5 columns]"
            ]
          },
          "metadata": {
            "tags": []
          },
          "execution_count": 3
        }
      ]
    },
    {
      "cell_type": "markdown",
      "metadata": {
        "id": "J9pY1rtr1sC0"
      },
      "source": [
        "### <a name='2'></a> Ćwiczenie 122\n",
        "Wyświetl podstawowe informacje na temat obiektu _google_."
      ]
    },
    {
      "cell_type": "code",
      "metadata": {
        "id": "0QE4WiIDeGqy",
        "outputId": "bb9ac632-01e5-4df7-f5db-d4ae1d38ada6",
        "colab": {
          "base_uri": "https://localhost:8080/",
          "height": 216
        }
      },
      "source": [
        "google.info()"
      ],
      "execution_count": null,
      "outputs": [
        {
          "output_type": "stream",
          "text": [
            "<class 'pandas.core.frame.DataFrame'>\n",
            "DatetimeIndex: 1258 entries, 2020-04-23 to 2015-04-27\n",
            "Data columns (total 5 columns):\n",
            " #   Column  Non-Null Count  Dtype  \n",
            "---  ------  --------------  -----  \n",
            " 0   Open    1258 non-null   float64\n",
            " 1   High    1258 non-null   float64\n",
            " 2   Low     1258 non-null   float64\n",
            " 3   Close   1258 non-null   float64\n",
            " 4   Volume  1258 non-null   int64  \n",
            "dtypes: float64(4), int64(1)\n",
            "memory usage: 59.0 KB\n"
          ],
          "name": "stdout"
        }
      ]
    },
    {
      "cell_type": "markdown",
      "metadata": {
        "id": "yic8GlyieMAv"
      },
      "source": [
        "Wyświetl podstawowe statystyki o obiekcie _google_."
      ]
    },
    {
      "cell_type": "code",
      "metadata": {
        "id": "8CiWPVl0eJ2B",
        "outputId": "699b1b6a-b6aa-4ade-f1be-d99542fe6277",
        "colab": {
          "base_uri": "https://localhost:8080/",
          "height": 287
        }
      },
      "source": [
        "google.describe()"
      ],
      "execution_count": null,
      "outputs": [
        {
          "output_type": "execute_result",
          "data": {
            "text/html": [
              "<div>\n",
              "<style scoped>\n",
              "    .dataframe tbody tr th:only-of-type {\n",
              "        vertical-align: middle;\n",
              "    }\n",
              "\n",
              "    .dataframe tbody tr th {\n",
              "        vertical-align: top;\n",
              "    }\n",
              "\n",
              "    .dataframe thead th {\n",
              "        text-align: right;\n",
              "    }\n",
              "</style>\n",
              "<table border=\"1\" class=\"dataframe\">\n",
              "  <thead>\n",
              "    <tr style=\"text-align: right;\">\n",
              "      <th></th>\n",
              "      <th>Open</th>\n",
              "      <th>High</th>\n",
              "      <th>Low</th>\n",
              "      <th>Close</th>\n",
              "      <th>Volume</th>\n",
              "    </tr>\n",
              "  </thead>\n",
              "  <tbody>\n",
              "    <tr>\n",
              "      <th>count</th>\n",
              "      <td>1258.000000</td>\n",
              "      <td>1258.000000</td>\n",
              "      <td>1258.000000</td>\n",
              "      <td>1258.000000</td>\n",
              "      <td>1.258000e+03</td>\n",
              "    </tr>\n",
              "    <tr>\n",
              "      <th>mean</th>\n",
              "      <td>975.417606</td>\n",
              "      <td>984.166155</td>\n",
              "      <td>966.272443</td>\n",
              "      <td>975.606747</td>\n",
              "      <td>1.794686e+06</td>\n",
              "    </tr>\n",
              "    <tr>\n",
              "      <th>std</th>\n",
              "      <td>224.714166</td>\n",
              "      <td>227.174062</td>\n",
              "      <td>222.569892</td>\n",
              "      <td>225.118960</td>\n",
              "      <td>9.472449e+05</td>\n",
              "    </tr>\n",
              "    <tr>\n",
              "      <th>min</th>\n",
              "      <td>535.900000</td>\n",
              "      <td>542.960000</td>\n",
              "      <td>532.230000</td>\n",
              "      <td>535.080000</td>\n",
              "      <td>5.211410e+05</td>\n",
              "    </tr>\n",
              "    <tr>\n",
              "      <th>25%</th>\n",
              "      <td>778.400000</td>\n",
              "      <td>783.050000</td>\n",
              "      <td>770.453500</td>\n",
              "      <td>777.212500</td>\n",
              "      <td>1.220973e+06</td>\n",
              "    </tr>\n",
              "    <tr>\n",
              "      <th>50%</th>\n",
              "      <td>1004.490000</td>\n",
              "      <td>1011.770000</td>\n",
              "      <td>995.630000</td>\n",
              "      <td>1005.125000</td>\n",
              "      <td>1.553164e+06</td>\n",
              "    </tr>\n",
              "    <tr>\n",
              "      <th>75%</th>\n",
              "      <td>1149.532500</td>\n",
              "      <td>1159.465000</td>\n",
              "      <td>1137.915000</td>\n",
              "      <td>1150.790000</td>\n",
              "      <td>2.059121e+06</td>\n",
              "    </tr>\n",
              "    <tr>\n",
              "      <th>max</th>\n",
              "      <td>1527.200000</td>\n",
              "      <td>1530.740000</td>\n",
              "      <td>1520.980000</td>\n",
              "      <td>1524.870000</td>\n",
              "      <td>1.285810e+07</td>\n",
              "    </tr>\n",
              "  </tbody>\n",
              "</table>\n",
              "</div>"
            ],
            "text/plain": [
              "              Open         High          Low        Close        Volume\n",
              "count  1258.000000  1258.000000  1258.000000  1258.000000  1.258000e+03\n",
              "mean    975.417606   984.166155   966.272443   975.606747  1.794686e+06\n",
              "std     224.714166   227.174062   222.569892   225.118960  9.472449e+05\n",
              "min     535.900000   542.960000   532.230000   535.080000  5.211410e+05\n",
              "25%     778.400000   783.050000   770.453500   777.212500  1.220973e+06\n",
              "50%    1004.490000  1011.770000   995.630000  1005.125000  1.553164e+06\n",
              "75%    1149.532500  1159.465000  1137.915000  1150.790000  2.059121e+06\n",
              "max    1527.200000  1530.740000  1520.980000  1524.870000  1.285810e+07"
            ]
          },
          "metadata": {
            "tags": []
          },
          "execution_count": 5
        }
      ]
    },
    {
      "cell_type": "markdown",
      "metadata": {
        "id": "OwKsy3HRf1Z5"
      },
      "source": [
        "Zwróć uwagę na precyzję zapisu poszczególnych statystyk.\n",
        "Spróbuj ustawić odpowiednie opcje biblioteki _pandas_, tak aby wyświetlać dane z dokładnością do dwóch miejsc po przecinku.\n",
        "\n",
        "__Wskazówka:__\n",
        "https://pandas.pydata.org/pandas-docs/stable/user_guide/options.html"
      ]
    },
    {
      "cell_type": "code",
      "metadata": {
        "id": "mskz01W_gCy0",
        "outputId": "a1b040f4-ddde-45ce-a385-475ab03870b1",
        "colab": {
          "base_uri": "https://localhost:8080/",
          "height": 287
        }
      },
      "source": [
        "pd.set_option('precision', 2)\n",
        "google.describe()"
      ],
      "execution_count": null,
      "outputs": [
        {
          "output_type": "execute_result",
          "data": {
            "text/html": [
              "<div>\n",
              "<style scoped>\n",
              "    .dataframe tbody tr th:only-of-type {\n",
              "        vertical-align: middle;\n",
              "    }\n",
              "\n",
              "    .dataframe tbody tr th {\n",
              "        vertical-align: top;\n",
              "    }\n",
              "\n",
              "    .dataframe thead th {\n",
              "        text-align: right;\n",
              "    }\n",
              "</style>\n",
              "<table border=\"1\" class=\"dataframe\">\n",
              "  <thead>\n",
              "    <tr style=\"text-align: right;\">\n",
              "      <th></th>\n",
              "      <th>Open</th>\n",
              "      <th>High</th>\n",
              "      <th>Low</th>\n",
              "      <th>Close</th>\n",
              "      <th>Volume</th>\n",
              "    </tr>\n",
              "  </thead>\n",
              "  <tbody>\n",
              "    <tr>\n",
              "      <th>count</th>\n",
              "      <td>1258.00</td>\n",
              "      <td>1258.00</td>\n",
              "      <td>1258.00</td>\n",
              "      <td>1258.00</td>\n",
              "      <td>1.26e+03</td>\n",
              "    </tr>\n",
              "    <tr>\n",
              "      <th>mean</th>\n",
              "      <td>975.42</td>\n",
              "      <td>984.17</td>\n",
              "      <td>966.27</td>\n",
              "      <td>975.61</td>\n",
              "      <td>1.79e+06</td>\n",
              "    </tr>\n",
              "    <tr>\n",
              "      <th>std</th>\n",
              "      <td>224.71</td>\n",
              "      <td>227.17</td>\n",
              "      <td>222.57</td>\n",
              "      <td>225.12</td>\n",
              "      <td>9.47e+05</td>\n",
              "    </tr>\n",
              "    <tr>\n",
              "      <th>min</th>\n",
              "      <td>535.90</td>\n",
              "      <td>542.96</td>\n",
              "      <td>532.23</td>\n",
              "      <td>535.08</td>\n",
              "      <td>5.21e+05</td>\n",
              "    </tr>\n",
              "    <tr>\n",
              "      <th>25%</th>\n",
              "      <td>778.40</td>\n",
              "      <td>783.05</td>\n",
              "      <td>770.45</td>\n",
              "      <td>777.21</td>\n",
              "      <td>1.22e+06</td>\n",
              "    </tr>\n",
              "    <tr>\n",
              "      <th>50%</th>\n",
              "      <td>1004.49</td>\n",
              "      <td>1011.77</td>\n",
              "      <td>995.63</td>\n",
              "      <td>1005.12</td>\n",
              "      <td>1.55e+06</td>\n",
              "    </tr>\n",
              "    <tr>\n",
              "      <th>75%</th>\n",
              "      <td>1149.53</td>\n",
              "      <td>1159.46</td>\n",
              "      <td>1137.91</td>\n",
              "      <td>1150.79</td>\n",
              "      <td>2.06e+06</td>\n",
              "    </tr>\n",
              "    <tr>\n",
              "      <th>max</th>\n",
              "      <td>1527.20</td>\n",
              "      <td>1530.74</td>\n",
              "      <td>1520.98</td>\n",
              "      <td>1524.87</td>\n",
              "      <td>1.29e+07</td>\n",
              "    </tr>\n",
              "  </tbody>\n",
              "</table>\n",
              "</div>"
            ],
            "text/plain": [
              "          Open     High      Low    Close    Volume\n",
              "count  1258.00  1258.00  1258.00  1258.00  1.26e+03\n",
              "mean    975.42   984.17   966.27   975.61  1.79e+06\n",
              "std     224.71   227.17   222.57   225.12  9.47e+05\n",
              "min     535.90   542.96   532.23   535.08  5.21e+05\n",
              "25%     778.40   783.05   770.45   777.21  1.22e+06\n",
              "50%    1004.49  1011.77   995.63  1005.12  1.55e+06\n",
              "75%    1149.53  1159.46  1137.91  1150.79  2.06e+06\n",
              "max    1527.20  1530.74  1520.98  1524.87  1.29e+07"
            ]
          },
          "metadata": {
            "tags": []
          },
          "execution_count": 6
        }
      ]
    },
    {
      "cell_type": "markdown",
      "metadata": {
        "id": "iEXHrwHwheyo"
      },
      "source": [
        "__Dodatkowo:__\n",
        "Poniższe ustawienie stłumi także notację wykładniczą (patrz kolumna _Volume_)."
      ]
    },
    {
      "cell_type": "code",
      "metadata": {
        "id": "qdosioVRhGfC",
        "outputId": "a33753fb-2046-4717-b338-88a7e5e41b72",
        "colab": {
          "base_uri": "https://localhost:8080/",
          "height": 287
        }
      },
      "source": [
        "pd.options.display.float_format = '{:.2f}'.format\n",
        "google.describe()"
      ],
      "execution_count": null,
      "outputs": [
        {
          "output_type": "execute_result",
          "data": {
            "text/html": [
              "<div>\n",
              "<style scoped>\n",
              "    .dataframe tbody tr th:only-of-type {\n",
              "        vertical-align: middle;\n",
              "    }\n",
              "\n",
              "    .dataframe tbody tr th {\n",
              "        vertical-align: top;\n",
              "    }\n",
              "\n",
              "    .dataframe thead th {\n",
              "        text-align: right;\n",
              "    }\n",
              "</style>\n",
              "<table border=\"1\" class=\"dataframe\">\n",
              "  <thead>\n",
              "    <tr style=\"text-align: right;\">\n",
              "      <th></th>\n",
              "      <th>Open</th>\n",
              "      <th>High</th>\n",
              "      <th>Low</th>\n",
              "      <th>Close</th>\n",
              "      <th>Volume</th>\n",
              "    </tr>\n",
              "  </thead>\n",
              "  <tbody>\n",
              "    <tr>\n",
              "      <th>count</th>\n",
              "      <td>1258.00</td>\n",
              "      <td>1258.00</td>\n",
              "      <td>1258.00</td>\n",
              "      <td>1258.00</td>\n",
              "      <td>1258.00</td>\n",
              "    </tr>\n",
              "    <tr>\n",
              "      <th>mean</th>\n",
              "      <td>975.42</td>\n",
              "      <td>984.17</td>\n",
              "      <td>966.27</td>\n",
              "      <td>975.61</td>\n",
              "      <td>1794686.24</td>\n",
              "    </tr>\n",
              "    <tr>\n",
              "      <th>std</th>\n",
              "      <td>224.71</td>\n",
              "      <td>227.17</td>\n",
              "      <td>222.57</td>\n",
              "      <td>225.12</td>\n",
              "      <td>947244.93</td>\n",
              "    </tr>\n",
              "    <tr>\n",
              "      <th>min</th>\n",
              "      <td>535.90</td>\n",
              "      <td>542.96</td>\n",
              "      <td>532.23</td>\n",
              "      <td>535.08</td>\n",
              "      <td>521141.00</td>\n",
              "    </tr>\n",
              "    <tr>\n",
              "      <th>25%</th>\n",
              "      <td>778.40</td>\n",
              "      <td>783.05</td>\n",
              "      <td>770.45</td>\n",
              "      <td>777.21</td>\n",
              "      <td>1220973.25</td>\n",
              "    </tr>\n",
              "    <tr>\n",
              "      <th>50%</th>\n",
              "      <td>1004.49</td>\n",
              "      <td>1011.77</td>\n",
              "      <td>995.63</td>\n",
              "      <td>1005.12</td>\n",
              "      <td>1553164.00</td>\n",
              "    </tr>\n",
              "    <tr>\n",
              "      <th>75%</th>\n",
              "      <td>1149.53</td>\n",
              "      <td>1159.46</td>\n",
              "      <td>1137.91</td>\n",
              "      <td>1150.79</td>\n",
              "      <td>2059121.25</td>\n",
              "    </tr>\n",
              "    <tr>\n",
              "      <th>max</th>\n",
              "      <td>1527.20</td>\n",
              "      <td>1530.74</td>\n",
              "      <td>1520.98</td>\n",
              "      <td>1524.87</td>\n",
              "      <td>12858100.00</td>\n",
              "    </tr>\n",
              "  </tbody>\n",
              "</table>\n",
              "</div>"
            ],
            "text/plain": [
              "         Open    High     Low   Close      Volume\n",
              "count 1258.00 1258.00 1258.00 1258.00     1258.00\n",
              "mean   975.42  984.17  966.27  975.61  1794686.24\n",
              "std    224.71  227.17  222.57  225.12   947244.93\n",
              "min    535.90  542.96  532.23  535.08   521141.00\n",
              "25%    778.40  783.05  770.45  777.21  1220973.25\n",
              "50%   1004.49 1011.77  995.63 1005.12  1553164.00\n",
              "75%   1149.53 1159.46 1137.91 1150.79  2059121.25\n",
              "max   1527.20 1530.74 1520.98 1524.87 12858100.00"
            ]
          },
          "metadata": {
            "tags": []
          },
          "execution_count": 7
        }
      ]
    },
    {
      "cell_type": "markdown",
      "metadata": {
        "id": "p12duQuPlWSU"
      },
      "source": [
        "Zbuduj wykres ceny zamknięcia (_Close_) dla obiektu _google_."
      ]
    },
    {
      "cell_type": "code",
      "metadata": {
        "id": "tmpm-uiAlKgv",
        "outputId": "467ade27-1905-4e05-9ae2-8f1f4676f8b9",
        "colab": {
          "base_uri": "https://localhost:8080/",
          "height": 292
        }
      },
      "source": [
        "google['Close'].plot()"
      ],
      "execution_count": null,
      "outputs": [
        {
          "output_type": "execute_result",
          "data": {
            "text/plain": [
              "<matplotlib.axes._subplots.AxesSubplot at 0x7f6a783cef98>"
            ]
          },
          "metadata": {
            "tags": []
          },
          "execution_count": 8
        },
        {
          "output_type": "display_data",
          "data": {
            "image/png": "[encoded data removed]",
            "text/plain": [
              "<Figure size 432x288 with 1 Axes>"
            ]
          },
          "metadata": {
            "tags": [],
            "needs_background": "light"
          }
        }
      ]
    },
    {
      "cell_type": "markdown",
      "metadata": {
        "id": "XQLYT2m11wVG"
      },
      "source": [
        "### <a name='3'></a> Ćwiczenie 123\n",
        "Zamień indeks _Date_ na kolumnę. Przypisz trwale zmiany do zniennej _google_."
      ]
    },
    {
      "cell_type": "code",
      "metadata": {
        "id": "Ac1OnxjOh3fa",
        "outputId": "9189f95b-c4d8-40da-b2f4-fcf3ea63b994",
        "colab": {
          "base_uri": "https://localhost:8080/",
          "height": 406
        }
      },
      "source": [
        "google = google.reset_index()\n",
        "google"
      ],
      "execution_count": null,
      "outputs": [
        {
          "output_type": "execute_result",
          "data": {
            "text/html": [
              "<div>\n",
              "<style scoped>\n",
              "    .dataframe tbody tr th:only-of-type {\n",
              "        vertical-align: middle;\n",
              "    }\n",
              "\n",
              "    .dataframe tbody tr th {\n",
              "        vertical-align: top;\n",
              "    }\n",
              "\n",
              "    .dataframe thead th {\n",
              "        text-align: right;\n",
              "    }\n",
              "</style>\n",
              "<table border=\"1\" class=\"dataframe\">\n",
              "  <thead>\n",
              "    <tr style=\"text-align: right;\">\n",
              "      <th></th>\n",
              "      <th>Date</th>\n",
              "      <th>Open</th>\n",
              "      <th>High</th>\n",
              "      <th>Low</th>\n",
              "      <th>Close</th>\n",
              "      <th>Volume</th>\n",
              "    </tr>\n",
              "  </thead>\n",
              "  <tbody>\n",
              "    <tr>\n",
              "      <th>0</th>\n",
              "      <td>2020-04-23</td>\n",
              "      <td>1265.74</td>\n",
              "      <td>1288.15</td>\n",
              "      <td>1260.53</td>\n",
              "      <td>1271.17</td>\n",
              "      <td>1710122</td>\n",
              "    </tr>\n",
              "    <tr>\n",
              "      <th>1</th>\n",
              "      <td>2020-04-22</td>\n",
              "      <td>1241.11</td>\n",
              "      <td>1279.88</td>\n",
              "      <td>1237.20</td>\n",
              "      <td>1258.41</td>\n",
              "      <td>2315792</td>\n",
              "    </tr>\n",
              "    <tr>\n",
              "      <th>2</th>\n",
              "      <td>2020-04-21</td>\n",
              "      <td>1242.71</td>\n",
              "      <td>1250.00</td>\n",
              "      <td>1205.00</td>\n",
              "      <td>1212.16</td>\n",
              "      <td>2482404</td>\n",
              "    </tr>\n",
              "    <tr>\n",
              "      <th>3</th>\n",
              "      <td>2020-04-20</td>\n",
              "      <td>1269.89</td>\n",
              "      <td>1276.82</td>\n",
              "      <td>1256.44</td>\n",
              "      <td>1261.15</td>\n",
              "      <td>1764608</td>\n",
              "    </tr>\n",
              "    <tr>\n",
              "      <th>4</th>\n",
              "      <td>2020-04-17</td>\n",
              "      <td>1281.70</td>\n",
              "      <td>1290.00</td>\n",
              "      <td>1266.00</td>\n",
              "      <td>1279.00</td>\n",
              "      <td>2552824</td>\n",
              "    </tr>\n",
              "    <tr>\n",
              "      <th>...</th>\n",
              "      <td>...</td>\n",
              "      <td>...</td>\n",
              "      <td>...</td>\n",
              "      <td>...</td>\n",
              "      <td>...</td>\n",
              "      <td>...</td>\n",
              "    </tr>\n",
              "    <tr>\n",
              "      <th>1253</th>\n",
              "      <td>2015-05-01</td>\n",
              "      <td>549.92</td>\n",
              "      <td>551.22</td>\n",
              "      <td>543.85</td>\n",
              "      <td>551.16</td>\n",
              "      <td>1828500</td>\n",
              "    </tr>\n",
              "    <tr>\n",
              "      <th>1254</th>\n",
              "      <td>2015-04-30</td>\n",
              "      <td>558.56</td>\n",
              "      <td>561.11</td>\n",
              "      <td>546.72</td>\n",
              "      <td>548.77</td>\n",
              "      <td>2362000</td>\n",
              "    </tr>\n",
              "    <tr>\n",
              "      <th>1255</th>\n",
              "      <td>2015-04-29</td>\n",
              "      <td>560.51</td>\n",
              "      <td>565.84</td>\n",
              "      <td>559.00</td>\n",
              "      <td>561.39</td>\n",
              "      <td>1681000</td>\n",
              "    </tr>\n",
              "    <tr>\n",
              "      <th>1256</th>\n",
              "      <td>2015-04-28</td>\n",
              "      <td>564.32</td>\n",
              "      <td>567.83</td>\n",
              "      <td>560.96</td>\n",
              "      <td>564.37</td>\n",
              "      <td>1859787</td>\n",
              "    </tr>\n",
              "    <tr>\n",
              "      <th>1257</th>\n",
              "      <td>2015-04-27</td>\n",
              "      <td>572.45</td>\n",
              "      <td>575.52</td>\n",
              "      <td>562.30</td>\n",
              "      <td>566.12</td>\n",
              "      <td>2403100</td>\n",
              "    </tr>\n",
              "  </tbody>\n",
              "</table>\n",
              "<p>1258 rows × 6 columns</p>\n",
              "</div>"
            ],
            "text/plain": [
              "           Date    Open    High     Low   Close   Volume\n",
              "0    2020-04-23 1265.74 1288.15 1260.53 1271.17  1710122\n",
              "1    2020-04-22 1241.11 1279.88 1237.20 1258.41  2315792\n",
              "2    2020-04-21 1242.71 1250.00 1205.00 1212.16  2482404\n",
              "3    2020-04-20 1269.89 1276.82 1256.44 1261.15  1764608\n",
              "4    2020-04-17 1281.70 1290.00 1266.00 1279.00  2552824\n",
              "...         ...     ...     ...     ...     ...      ...\n",
              "1253 2015-05-01  549.92  551.22  543.85  551.16  1828500\n",
              "1254 2015-04-30  558.56  561.11  546.72  548.77  2362000\n",
              "1255 2015-04-29  560.51  565.84  559.00  561.39  1681000\n",
              "1256 2015-04-28  564.32  567.83  560.96  564.37  1859787\n",
              "1257 2015-04-27  572.45  575.52  562.30  566.12  2403100\n",
              "\n",
              "[1258 rows x 6 columns]"
            ]
          },
          "metadata": {
            "tags": []
          },
          "execution_count": 9
        }
      ]
    },
    {
      "cell_type": "markdown",
      "metadata": {
        "id": "SRfQiXpGiXBc"
      },
      "source": [
        "Przypisz dwie nowe kolumny do obiektu _google_ dodając kolumnę z aktualnym numerem miesiąca o nazwie _'Month'_ oraz z rokiem o nazwie _'Year'_."
      ]
    },
    {
      "cell_type": "code",
      "metadata": {
        "id": "S32izk-BiL_q",
        "outputId": "3308394a-5177-457a-be4c-a91d4eb66b02",
        "colab": {
          "base_uri": "https://localhost:8080/",
          "height": 406
        }
      },
      "source": [
        "google['Year'] = google['Date'].dt.year\n",
        "google['Month'] = google['Date'].dt.month\n",
        "google"
      ],
      "execution_count": null,
      "outputs": [
        {
          "output_type": "execute_result",
          "data": {
            "text/html": [
              "<div>\n",
              "<style scoped>\n",
              "    .dataframe tbody tr th:only-of-type {\n",
              "        vertical-align: middle;\n",
              "    }\n",
              "\n",
              "    .dataframe tbody tr th {\n",
              "        vertical-align: top;\n",
              "    }\n",
              "\n",
              "    .dataframe thead th {\n",
              "        text-align: right;\n",
              "    }\n",
              "</style>\n",
              "<table border=\"1\" class=\"dataframe\">\n",
              "  <thead>\n",
              "    <tr style=\"text-align: right;\">\n",
              "      <th></th>\n",
              "      <th>Date</th>\n",
              "      <th>Open</th>\n",
              "      <th>High</th>\n",
              "      <th>Low</th>\n",
              "      <th>Close</th>\n",
              "      <th>Volume</th>\n",
              "      <th>Year</th>\n",
              "      <th>Month</th>\n",
              "    </tr>\n",
              "  </thead>\n",
              "  <tbody>\n",
              "    <tr>\n",
              "      <th>0</th>\n",
              "      <td>2020-04-23</td>\n",
              "      <td>1265.74</td>\n",
              "      <td>1288.15</td>\n",
              "      <td>1260.53</td>\n",
              "      <td>1271.17</td>\n",
              "      <td>1710122</td>\n",
              "      <td>2020</td>\n",
              "      <td>4</td>\n",
              "    </tr>\n",
              "    <tr>\n",
              "      <th>1</th>\n",
              "      <td>2020-04-22</td>\n",
              "      <td>1241.11</td>\n",
              "      <td>1279.88</td>\n",
              "      <td>1237.20</td>\n",
              "      <td>1258.41</td>\n",
              "      <td>2315792</td>\n",
              "      <td>2020</td>\n",
              "      <td>4</td>\n",
              "    </tr>\n",
              "    <tr>\n",
              "      <th>2</th>\n",
              "      <td>2020-04-21</td>\n",
              "      <td>1242.71</td>\n",
              "      <td>1250.00</td>\n",
              "      <td>1205.00</td>\n",
              "      <td>1212.16</td>\n",
              "      <td>2482404</td>\n",
              "      <td>2020</td>\n",
              "      <td>4</td>\n",
              "    </tr>\n",
              "    <tr>\n",
              "      <th>3</th>\n",
              "      <td>2020-04-20</td>\n",
              "      <td>1269.89</td>\n",
              "      <td>1276.82</td>\n",
              "      <td>1256.44</td>\n",
              "      <td>1261.15</td>\n",
              "      <td>1764608</td>\n",
              "      <td>2020</td>\n",
              "      <td>4</td>\n",
              "    </tr>\n",
              "    <tr>\n",
              "      <th>4</th>\n",
              "      <td>2020-04-17</td>\n",
              "      <td>1281.70</td>\n",
              "      <td>1290.00</td>\n",
              "      <td>1266.00</td>\n",
              "      <td>1279.00</td>\n",
              "      <td>2552824</td>\n",
              "      <td>2020</td>\n",
              "      <td>4</td>\n",
              "    </tr>\n",
              "    <tr>\n",
              "      <th>...</th>\n",
              "      <td>...</td>\n",
              "      <td>...</td>\n",
              "      <td>...</td>\n",
              "      <td>...</td>\n",
              "      <td>...</td>\n",
              "      <td>...</td>\n",
              "      <td>...</td>\n",
              "      <td>...</td>\n",
              "    </tr>\n",
              "    <tr>\n",
              "      <th>1253</th>\n",
              "      <td>2015-05-01</td>\n",
              "      <td>549.92</td>\n",
              "      <td>551.22</td>\n",
              "      <td>543.85</td>\n",
              "      <td>551.16</td>\n",
              "      <td>1828500</td>\n",
              "      <td>2015</td>\n",
              "      <td>5</td>\n",
              "    </tr>\n",
              "    <tr>\n",
              "      <th>1254</th>\n",
              "      <td>2015-04-30</td>\n",
              "      <td>558.56</td>\n",
              "      <td>561.11</td>\n",
              "      <td>546.72</td>\n",
              "      <td>548.77</td>\n",
              "      <td>2362000</td>\n",
              "      <td>2015</td>\n",
              "      <td>4</td>\n",
              "    </tr>\n",
              "    <tr>\n",
              "      <th>1255</th>\n",
              "      <td>2015-04-29</td>\n",
              "      <td>560.51</td>\n",
              "      <td>565.84</td>\n",
              "      <td>559.00</td>\n",
              "      <td>561.39</td>\n",
              "      <td>1681000</td>\n",
              "      <td>2015</td>\n",
              "      <td>4</td>\n",
              "    </tr>\n",
              "    <tr>\n",
              "      <th>1256</th>\n",
              "      <td>2015-04-28</td>\n",
              "      <td>564.32</td>\n",
              "      <td>567.83</td>\n",
              "      <td>560.96</td>\n",
              "      <td>564.37</td>\n",
              "      <td>1859787</td>\n",
              "      <td>2015</td>\n",
              "      <td>4</td>\n",
              "    </tr>\n",
              "    <tr>\n",
              "      <th>1257</th>\n",
              "      <td>2015-04-27</td>\n",
              "      <td>572.45</td>\n",
              "      <td>575.52</td>\n",
              "      <td>562.30</td>\n",
              "      <td>566.12</td>\n",
              "      <td>2403100</td>\n",
              "      <td>2015</td>\n",
              "      <td>4</td>\n",
              "    </tr>\n",
              "  </tbody>\n",
              "</table>\n",
              "<p>1258 rows × 8 columns</p>\n",
              "</div>"
            ],
            "text/plain": [
              "           Date    Open    High     Low   Close   Volume  Year  Month\n",
              "0    2020-04-23 1265.74 1288.15 1260.53 1271.17  1710122  2020      4\n",
              "1    2020-04-22 1241.11 1279.88 1237.20 1258.41  2315792  2020      4\n",
              "2    2020-04-21 1242.71 1250.00 1205.00 1212.16  2482404  2020      4\n",
              "3    2020-04-20 1269.89 1276.82 1256.44 1261.15  1764608  2020      4\n",
              "4    2020-04-17 1281.70 1290.00 1266.00 1279.00  2552824  2020      4\n",
              "...         ...     ...     ...     ...     ...      ...   ...    ...\n",
              "1253 2015-05-01  549.92  551.22  543.85  551.16  1828500  2015      5\n",
              "1254 2015-04-30  558.56  561.11  546.72  548.77  2362000  2015      4\n",
              "1255 2015-04-29  560.51  565.84  559.00  561.39  1681000  2015      4\n",
              "1256 2015-04-28  564.32  567.83  560.96  564.37  1859787  2015      4\n",
              "1257 2015-04-27  572.45  575.52  562.30  566.12  2403100  2015      4\n",
              "\n",
              "[1258 rows x 8 columns]"
            ]
          },
          "metadata": {
            "tags": []
          },
          "execution_count": 10
        }
      ]
    },
    {
      "cell_type": "markdown",
      "metadata": {
        "id": "4xTKSUzg10MK"
      },
      "source": [
        "### <a name='4'></a> Ćwiczenie 124\n",
        "Policz średnią cenę zamknięcia (_Close_) dla poszczególnego roku (pogrupuj dane po roku - kolumna _Year_ i następnie policz wartość średnią)."
      ]
    },
    {
      "cell_type": "code",
      "metadata": {
        "id": "wSFs7z0Qi3Y7",
        "outputId": "f8b14ad2-e736-4e9a-e0ba-7aac313a5b27",
        "colab": {
          "base_uri": "https://localhost:8080/",
          "height": 150
        }
      },
      "source": [
        "google.groupby('Year')['Close'].mean()"
      ],
      "execution_count": null,
      "outputs": [
        {
          "output_type": "execute_result",
          "data": {
            "text/plain": [
              "Year\n",
              "2015    654.54\n",
              "2016    763.21\n",
              "2017    939.77\n",
              "2018   1122.05\n",
              "2019   1191.22\n",
              "2020   1325.52\n",
              "Name: Close, dtype: float64"
            ]
          },
          "metadata": {
            "tags": []
          },
          "execution_count": 11
        }
      ]
    },
    {
      "cell_type": "markdown",
      "metadata": {
        "id": "DSqQjdS4j-wl"
      },
      "source": [
        "Otrzymane wartości przedstaw na wykresie wykorzystując metodę _plot()_."
      ]
    },
    {
      "cell_type": "code",
      "metadata": {
        "id": "0nBtvC2tjaTK",
        "outputId": "81fe3179-769a-49aa-c877-47c9c6d2e874",
        "colab": {
          "base_uri": "https://localhost:8080/",
          "height": 301
        }
      },
      "source": [
        "google.groupby('Year')['Close'].mean().plot()"
      ],
      "execution_count": null,
      "outputs": [
        {
          "output_type": "execute_result",
          "data": {
            "text/plain": [
              "<matplotlib.axes._subplots.AxesSubplot at 0x7f6a783204a8>"
            ]
          },
          "metadata": {
            "tags": []
          },
          "execution_count": 12
        },
        {
          "output_type": "display_data",
          "data": {
            "image/png": "[encoded data removed]",
            "text/plain": [
              "<Figure size 432x288 with 1 Axes>"
            ]
          },
          "metadata": {
            "tags": [],
            "needs_background": "light"
          }
        }
      ]
    },
    {
      "cell_type": "markdown",
      "metadata": {
        "id": "RduPz9PDkR2-"
      },
      "source": [
        "Policz średnią cenę zamknięcia (_Close_) dla miesiąca (pogrupuj dane po miesiącu - kolumna _Month_ i następnie policz wartość średnią)."
      ]
    },
    {
      "cell_type": "code",
      "metadata": {
        "id": "4Vd83xT_kIsg",
        "outputId": "9dc683b1-8aa1-46ee-fa06-4681ca45beab",
        "colab": {
          "base_uri": "https://localhost:8080/",
          "height": 250
        }
      },
      "source": [
        "google.groupby('Month')['Close'].mean()"
      ],
      "execution_count": null,
      "outputs": [
        {
          "output_type": "execute_result",
          "data": {
            "text/plain": [
              "Month\n",
              "1    1052.83\n",
              "2    1044.11\n",
              "3    1008.99\n",
              "4     995.68\n",
              "5     901.25\n",
              "6     889.34\n",
              "7     935.87\n",
              "8     969.14\n",
              "9     953.44\n",
              "10    976.73\n",
              "11    991.32\n",
              "12    999.30\n",
              "Name: Close, dtype: float64"
            ]
          },
          "metadata": {
            "tags": []
          },
          "execution_count": 13
        }
      ]
    },
    {
      "cell_type": "markdown",
      "metadata": {
        "id": "ytITHhjjkaoO"
      },
      "source": [
        "Otrzymane wartości przedstaw na wykresie wykorzystując metodę _plot()_.\n",
        "Zauważ, które miesiące mogą wskazywać na słabsze okresy na giełdzie."
      ]
    },
    {
      "cell_type": "code",
      "metadata": {
        "id": "ob02yPQRkK3E",
        "outputId": "24bce0e3-d73d-4fca-df31-cc4fea554dc4",
        "colab": {
          "base_uri": "https://localhost:8080/",
          "height": 304
        }
      },
      "source": [
        "google.groupby('Month')['Close'].mean().plot()"
      ],
      "execution_count": null,
      "outputs": [
        {
          "output_type": "execute_result",
          "data": {
            "text/plain": [
              "<matplotlib.axes._subplots.AxesSubplot at 0x7f6a77e4ae80>"
            ]
          },
          "metadata": {
            "tags": []
          },
          "execution_count": 14
        },
        {
          "output_type": "display_data",
          "data": {
            "image/png": "[encoded data removed]",
            "text/plain": [
              "<Figure size 432x288 with 1 Axes>"
            ]
          },
          "metadata": {
            "tags": [],
            "needs_background": "light"
          }
        }
      ]
    },
    {
      "cell_type": "markdown",
      "metadata": {
        "id": "o3HKIKlP15Ro"
      },
      "source": [
        "### <a name='5'></a> Ćwiczenie 125\n",
        "Pogrupuj dane z obiektu _google_ na poziomie roku i miesiąca. Następnie policz wartość średnią."
      ]
    },
    {
      "cell_type": "code",
      "metadata": {
        "id": "DptCcOtNkokd",
        "outputId": "8edadc88-a27f-4f5e-e882-1ec33d9fcec8",
        "colab": {
          "base_uri": "https://localhost:8080/",
          "height": 233
        }
      },
      "source": [
        "google.groupby(['Year', 'Month'])['Close'].mean()"
      ],
      "execution_count": null,
      "outputs": [
        {
          "output_type": "execute_result",
          "data": {
            "text/plain": [
              "Year  Month\n",
              "2015  4        560.16\n",
              "      5        547.68\n",
              "      6        550.80\n",
              "      7        617.47\n",
              "      8        667.66\n",
              "                ...  \n",
              "2019  12      1340.99\n",
              "2020  1       1436.17\n",
              "      2       1462.85\n",
              "      3       1185.14\n",
              "      4       1210.21\n",
              "Name: Close, Length: 61, dtype: float64"
            ]
          },
          "metadata": {
            "tags": []
          },
          "execution_count": 15
        }
      ]
    },
    {
      "cell_type": "markdown",
      "metadata": {
        "id": "PunXd_Ey16so"
      },
      "source": [
        "### <a name='6'></a> Ćwiczenie 126\n",
        "Znajdź indeks dla którego kolumna _Close_ przyjmuje wartość największą."
      ]
    },
    {
      "cell_type": "code",
      "metadata": {
        "id": "PIUT3b7Rm7v1",
        "outputId": "e09cce02-e8ac-4861-d01b-f0726f4ab66a",
        "colab": {
          "base_uri": "https://localhost:8080/",
          "height": 33
        }
      },
      "source": [
        "google['Close'].argmax()"
      ],
      "execution_count": null,
      "outputs": [
        {
          "output_type": "execute_result",
          "data": {
            "text/plain": [
              "45"
            ]
          },
          "metadata": {
            "tags": []
          },
          "execution_count": 16
        }
      ]
    },
    {
      "cell_type": "markdown",
      "metadata": {
        "id": "WETiC6NEnPm0"
      },
      "source": [
        "Wytnij wiersz dla tego indeksu z obiektu _google_ jako obiekt DataFrame. Odczytaj datę."
      ]
    },
    {
      "cell_type": "code",
      "metadata": {
        "id": "XccuGttMnL_d",
        "outputId": "9d6abaa4-353b-49fd-d8a3-20d226d2d717",
        "colab": {
          "base_uri": "https://localhost:8080/",
          "height": 77
        }
      },
      "source": [
        "google.iloc[[google['Close'].argmax()]]"
      ],
      "execution_count": null,
      "outputs": [
        {
          "output_type": "execute_result",
          "data": {
            "text/html": [
              "<div>\n",
              "<style scoped>\n",
              "    .dataframe tbody tr th:only-of-type {\n",
              "        vertical-align: middle;\n",
              "    }\n",
              "\n",
              "    .dataframe tbody tr th {\n",
              "        vertical-align: top;\n",
              "    }\n",
              "\n",
              "    .dataframe thead th {\n",
              "        text-align: right;\n",
              "    }\n",
              "</style>\n",
              "<table border=\"1\" class=\"dataframe\">\n",
              "  <thead>\n",
              "    <tr style=\"text-align: right;\">\n",
              "      <th></th>\n",
              "      <th>Date</th>\n",
              "      <th>Open</th>\n",
              "      <th>High</th>\n",
              "      <th>Low</th>\n",
              "      <th>Close</th>\n",
              "      <th>Volume</th>\n",
              "      <th>Year</th>\n",
              "      <th>Month</th>\n",
              "    </tr>\n",
              "  </thead>\n",
              "  <tbody>\n",
              "    <tr>\n",
              "      <th>45</th>\n",
              "      <td>2020-02-19</td>\n",
              "      <td>1527.20</td>\n",
              "      <td>1530.74</td>\n",
              "      <td>1520.98</td>\n",
              "      <td>1524.87</td>\n",
              "      <td>1137338</td>\n",
              "      <td>2020</td>\n",
              "      <td>2</td>\n",
              "    </tr>\n",
              "  </tbody>\n",
              "</table>\n",
              "</div>"
            ],
            "text/plain": [
              "         Date    Open    High     Low   Close   Volume  Year  Month\n",
              "45 2020-02-19 1527.20 1530.74 1520.98 1524.87  1137338  2020      2"
            ]
          },
          "metadata": {
            "tags": []
          },
          "execution_count": 17
        }
      ]
    },
    {
      "cell_type": "markdown",
      "metadata": {
        "id": "hOhqDRz618Tx"
      },
      "source": [
        "### <a name='7'></a> Ćwiczenie 127\n",
        "Z obiektu _google_ wytnij kolumny _Date_, _Open_, _Close_, _Volume_.\n",
        "Nie zmieniaj pierwotnego obiektu _google_!\n"
      ]
    },
    {
      "cell_type": "code",
      "metadata": {
        "id": "P17Vtv4imw28",
        "outputId": "407a2665-a1a4-4584-acbe-ac737644fd87",
        "colab": {
          "base_uri": "https://localhost:8080/",
          "height": 406
        }
      },
      "source": [
        "google[['Date', 'Open', 'Close', 'Volume']]"
      ],
      "execution_count": null,
      "outputs": [
        {
          "output_type": "execute_result",
          "data": {
            "text/html": [
              "<div>\n",
              "<style scoped>\n",
              "    .dataframe tbody tr th:only-of-type {\n",
              "        vertical-align: middle;\n",
              "    }\n",
              "\n",
              "    .dataframe tbody tr th {\n",
              "        vertical-align: top;\n",
              "    }\n",
              "\n",
              "    .dataframe thead th {\n",
              "        text-align: right;\n",
              "    }\n",
              "</style>\n",
              "<table border=\"1\" class=\"dataframe\">\n",
              "  <thead>\n",
              "    <tr style=\"text-align: right;\">\n",
              "      <th></th>\n",
              "      <th>Date</th>\n",
              "      <th>Open</th>\n",
              "      <th>Close</th>\n",
              "      <th>Volume</th>\n",
              "    </tr>\n",
              "  </thead>\n",
              "  <tbody>\n",
              "    <tr>\n",
              "      <th>0</th>\n",
              "      <td>2020-04-23</td>\n",
              "      <td>1265.74</td>\n",
              "      <td>1271.17</td>\n",
              "      <td>1710122</td>\n",
              "    </tr>\n",
              "    <tr>\n",
              "      <th>1</th>\n",
              "      <td>2020-04-22</td>\n",
              "      <td>1241.11</td>\n",
              "      <td>1258.41</td>\n",
              "      <td>2315792</td>\n",
              "    </tr>\n",
              "    <tr>\n",
              "      <th>2</th>\n",
              "      <td>2020-04-21</td>\n",
              "      <td>1242.71</td>\n",
              "      <td>1212.16</td>\n",
              "      <td>2482404</td>\n",
              "    </tr>\n",
              "    <tr>\n",
              "      <th>3</th>\n",
              "      <td>2020-04-20</td>\n",
              "      <td>1269.89</td>\n",
              "      <td>1261.15</td>\n",
              "      <td>1764608</td>\n",
              "    </tr>\n",
              "    <tr>\n",
              "      <th>4</th>\n",
              "      <td>2020-04-17</td>\n",
              "      <td>1281.70</td>\n",
              "      <td>1279.00</td>\n",
              "      <td>2552824</td>\n",
              "    </tr>\n",
              "    <tr>\n",
              "      <th>...</th>\n",
              "      <td>...</td>\n",
              "      <td>...</td>\n",
              "      <td>...</td>\n",
              "      <td>...</td>\n",
              "    </tr>\n",
              "    <tr>\n",
              "      <th>1253</th>\n",
              "      <td>2015-05-01</td>\n",
              "      <td>549.92</td>\n",
              "      <td>551.16</td>\n",
              "      <td>1828500</td>\n",
              "    </tr>\n",
              "    <tr>\n",
              "      <th>1254</th>\n",
              "      <td>2015-04-30</td>\n",
              "      <td>558.56</td>\n",
              "      <td>548.77</td>\n",
              "      <td>2362000</td>\n",
              "    </tr>\n",
              "    <tr>\n",
              "      <th>1255</th>\n",
              "      <td>2015-04-29</td>\n",
              "      <td>560.51</td>\n",
              "      <td>561.39</td>\n",
              "      <td>1681000</td>\n",
              "    </tr>\n",
              "    <tr>\n",
              "      <th>1256</th>\n",
              "      <td>2015-04-28</td>\n",
              "      <td>564.32</td>\n",
              "      <td>564.37</td>\n",
              "      <td>1859787</td>\n",
              "    </tr>\n",
              "    <tr>\n",
              "      <th>1257</th>\n",
              "      <td>2015-04-27</td>\n",
              "      <td>572.45</td>\n",
              "      <td>566.12</td>\n",
              "      <td>2403100</td>\n",
              "    </tr>\n",
              "  </tbody>\n",
              "</table>\n",
              "<p>1258 rows × 4 columns</p>\n",
              "</div>"
            ],
            "text/plain": [
              "           Date    Open   Close   Volume\n",
              "0    2020-04-23 1265.74 1271.17  1710122\n",
              "1    2020-04-22 1241.11 1258.41  2315792\n",
              "2    2020-04-21 1242.71 1212.16  2482404\n",
              "3    2020-04-20 1269.89 1261.15  1764608\n",
              "4    2020-04-17 1281.70 1279.00  2552824\n",
              "...         ...     ...     ...      ...\n",
              "1253 2015-05-01  549.92  551.16  1828500\n",
              "1254 2015-04-30  558.56  548.77  2362000\n",
              "1255 2015-04-29  560.51  561.39  1681000\n",
              "1256 2015-04-28  564.32  564.37  1859787\n",
              "1257 2015-04-27  572.45  566.12  2403100\n",
              "\n",
              "[1258 rows x 4 columns]"
            ]
          },
          "metadata": {
            "tags": []
          },
          "execution_count": 18
        }
      ]
    },
    {
      "cell_type": "markdown",
      "metadata": {
        "id": "TXUd_4631-gw"
      },
      "source": [
        "### <a name='8'></a> Ćwiczenie 128\n",
        "Ustaw z powrotem indeks dla kolumny _Date_. Wyświetl obiekt _google_."
      ]
    },
    {
      "cell_type": "code",
      "metadata": {
        "id": "E4zwlRNFoMMz",
        "outputId": "dc78a215-3529-4c46-e5bb-cf7dd11a58af",
        "colab": {
          "base_uri": "https://localhost:8080/",
          "height": 436
        }
      },
      "source": [
        "google = google.set_index('Date')\n",
        "google"
      ],
      "execution_count": null,
      "outputs": [
        {
          "output_type": "execute_result",
          "data": {
            "text/html": [
              "<div>\n",
              "<style scoped>\n",
              "    .dataframe tbody tr th:only-of-type {\n",
              "        vertical-align: middle;\n",
              "    }\n",
              "\n",
              "    .dataframe tbody tr th {\n",
              "        vertical-align: top;\n",
              "    }\n",
              "\n",
              "    .dataframe thead th {\n",
              "        text-align: right;\n",
              "    }\n",
              "</style>\n",
              "<table border=\"1\" class=\"dataframe\">\n",
              "  <thead>\n",
              "    <tr style=\"text-align: right;\">\n",
              "      <th></th>\n",
              "      <th>Open</th>\n",
              "      <th>High</th>\n",
              "      <th>Low</th>\n",
              "      <th>Close</th>\n",
              "      <th>Volume</th>\n",
              "      <th>Year</th>\n",
              "      <th>Month</th>\n",
              "    </tr>\n",
              "    <tr>\n",
              "      <th>Date</th>\n",
              "      <th></th>\n",
              "      <th></th>\n",
              "      <th></th>\n",
              "      <th></th>\n",
              "      <th></th>\n",
              "      <th></th>\n",
              "      <th></th>\n",
              "    </tr>\n",
              "  </thead>\n",
              "  <tbody>\n",
              "    <tr>\n",
              "      <th>2020-04-23</th>\n",
              "      <td>1265.74</td>\n",
              "      <td>1288.15</td>\n",
              "      <td>1260.53</td>\n",
              "      <td>1271.17</td>\n",
              "      <td>1710122</td>\n",
              "      <td>2020</td>\n",
              "      <td>4</td>\n",
              "    </tr>\n",
              "    <tr>\n",
              "      <th>2020-04-22</th>\n",
              "      <td>1241.11</td>\n",
              "      <td>1279.88</td>\n",
              "      <td>1237.20</td>\n",
              "      <td>1258.41</td>\n",
              "      <td>2315792</td>\n",
              "      <td>2020</td>\n",
              "      <td>4</td>\n",
              "    </tr>\n",
              "    <tr>\n",
              "      <th>2020-04-21</th>\n",
              "      <td>1242.71</td>\n",
              "      <td>1250.00</td>\n",
              "      <td>1205.00</td>\n",
              "      <td>1212.16</td>\n",
              "      <td>2482404</td>\n",
              "      <td>2020</td>\n",
              "      <td>4</td>\n",
              "    </tr>\n",
              "    <tr>\n",
              "      <th>2020-04-20</th>\n",
              "      <td>1269.89</td>\n",
              "      <td>1276.82</td>\n",
              "      <td>1256.44</td>\n",
              "      <td>1261.15</td>\n",
              "      <td>1764608</td>\n",
              "      <td>2020</td>\n",
              "      <td>4</td>\n",
              "    </tr>\n",
              "    <tr>\n",
              "      <th>2020-04-17</th>\n",
              "      <td>1281.70</td>\n",
              "      <td>1290.00</td>\n",
              "      <td>1266.00</td>\n",
              "      <td>1279.00</td>\n",
              "      <td>2552824</td>\n",
              "      <td>2020</td>\n",
              "      <td>4</td>\n",
              "    </tr>\n",
              "    <tr>\n",
              "      <th>...</th>\n",
              "      <td>...</td>\n",
              "      <td>...</td>\n",
              "      <td>...</td>\n",
              "      <td>...</td>\n",
              "      <td>...</td>\n",
              "      <td>...</td>\n",
              "      <td>...</td>\n",
              "    </tr>\n",
              "    <tr>\n",
              "      <th>2015-05-01</th>\n",
              "      <td>549.92</td>\n",
              "      <td>551.22</td>\n",
              "      <td>543.85</td>\n",
              "      <td>551.16</td>\n",
              "      <td>1828500</td>\n",
              "      <td>2015</td>\n",
              "      <td>5</td>\n",
              "    </tr>\n",
              "    <tr>\n",
              "      <th>2015-04-30</th>\n",
              "      <td>558.56</td>\n",
              "      <td>561.11</td>\n",
              "      <td>546.72</td>\n",
              "      <td>548.77</td>\n",
              "      <td>2362000</td>\n",
              "      <td>2015</td>\n",
              "      <td>4</td>\n",
              "    </tr>\n",
              "    <tr>\n",
              "      <th>2015-04-29</th>\n",
              "      <td>560.51</td>\n",
              "      <td>565.84</td>\n",
              "      <td>559.00</td>\n",
              "      <td>561.39</td>\n",
              "      <td>1681000</td>\n",
              "      <td>2015</td>\n",
              "      <td>4</td>\n",
              "    </tr>\n",
              "    <tr>\n",
              "      <th>2015-04-28</th>\n",
              "      <td>564.32</td>\n",
              "      <td>567.83</td>\n",
              "      <td>560.96</td>\n",
              "      <td>564.37</td>\n",
              "      <td>1859787</td>\n",
              "      <td>2015</td>\n",
              "      <td>4</td>\n",
              "    </tr>\n",
              "    <tr>\n",
              "      <th>2015-04-27</th>\n",
              "      <td>572.45</td>\n",
              "      <td>575.52</td>\n",
              "      <td>562.30</td>\n",
              "      <td>566.12</td>\n",
              "      <td>2403100</td>\n",
              "      <td>2015</td>\n",
              "      <td>4</td>\n",
              "    </tr>\n",
              "  </tbody>\n",
              "</table>\n",
              "<p>1258 rows × 7 columns</p>\n",
              "</div>"
            ],
            "text/plain": [
              "              Open    High     Low   Close   Volume  Year  Month\n",
              "Date                                                            \n",
              "2020-04-23 1265.74 1288.15 1260.53 1271.17  1710122  2020      4\n",
              "2020-04-22 1241.11 1279.88 1237.20 1258.41  2315792  2020      4\n",
              "2020-04-21 1242.71 1250.00 1205.00 1212.16  2482404  2020      4\n",
              "2020-04-20 1269.89 1276.82 1256.44 1261.15  1764608  2020      4\n",
              "2020-04-17 1281.70 1290.00 1266.00 1279.00  2552824  2020      4\n",
              "...            ...     ...     ...     ...      ...   ...    ...\n",
              "2015-05-01  549.92  551.22  543.85  551.16  1828500  2015      5\n",
              "2015-04-30  558.56  561.11  546.72  548.77  2362000  2015      4\n",
              "2015-04-29  560.51  565.84  559.00  561.39  1681000  2015      4\n",
              "2015-04-28  564.32  567.83  560.96  564.37  1859787  2015      4\n",
              "2015-04-27  572.45  575.52  562.30  566.12  2403100  2015      4\n",
              "\n",
              "[1258 rows x 7 columns]"
            ]
          },
          "metadata": {
            "tags": []
          },
          "execution_count": 19
        }
      ]
    },
    {
      "cell_type": "markdown",
      "metadata": {
        "id": "tgI6xEn-2AQo"
      },
      "source": [
        "### <a name='9'></a> Ćwiczenie 129\n",
        "Usuń na stałe kolumny _Year_ i _Month_ z obiektu _google_. Wyświetl obiekt _google_."
      ]
    },
    {
      "cell_type": "code",
      "metadata": {
        "id": "Qpy5zTecoY1T",
        "outputId": "3ea0aa96-ef4c-4b64-c1c1-5057ecfe5043",
        "colab": {
          "base_uri": "https://localhost:8080/",
          "height": 436
        }
      },
      "source": [
        "google = google.drop(columns=['Year', 'Month'])\n",
        "google"
      ],
      "execution_count": null,
      "outputs": [
        {
          "output_type": "execute_result",
          "data": {
            "text/html": [
              "<div>\n",
              "<style scoped>\n",
              "    .dataframe tbody tr th:only-of-type {\n",
              "        vertical-align: middle;\n",
              "    }\n",
              "\n",
              "    .dataframe tbody tr th {\n",
              "        vertical-align: top;\n",
              "    }\n",
              "\n",
              "    .dataframe thead th {\n",
              "        text-align: right;\n",
              "    }\n",
              "</style>\n",
              "<table border=\"1\" class=\"dataframe\">\n",
              "  <thead>\n",
              "    <tr style=\"text-align: right;\">\n",
              "      <th></th>\n",
              "      <th>Open</th>\n",
              "      <th>High</th>\n",
              "      <th>Low</th>\n",
              "      <th>Close</th>\n",
              "      <th>Volume</th>\n",
              "    </tr>\n",
              "    <tr>\n",
              "      <th>Date</th>\n",
              "      <th></th>\n",
              "      <th></th>\n",
              "      <th></th>\n",
              "      <th></th>\n",
              "      <th></th>\n",
              "    </tr>\n",
              "  </thead>\n",
              "  <tbody>\n",
              "    <tr>\n",
              "      <th>2020-04-23</th>\n",
              "      <td>1265.74</td>\n",
              "      <td>1288.15</td>\n",
              "      <td>1260.53</td>\n",
              "      <td>1271.17</td>\n",
              "      <td>1710122</td>\n",
              "    </tr>\n",
              "    <tr>\n",
              "      <th>2020-04-22</th>\n",
              "      <td>1241.11</td>\n",
              "      <td>1279.88</td>\n",
              "      <td>1237.20</td>\n",
              "      <td>1258.41</td>\n",
              "      <td>2315792</td>\n",
              "    </tr>\n",
              "    <tr>\n",
              "      <th>2020-04-21</th>\n",
              "      <td>1242.71</td>\n",
              "      <td>1250.00</td>\n",
              "      <td>1205.00</td>\n",
              "      <td>1212.16</td>\n",
              "      <td>2482404</td>\n",
              "    </tr>\n",
              "    <tr>\n",
              "      <th>2020-04-20</th>\n",
              "      <td>1269.89</td>\n",
              "      <td>1276.82</td>\n",
              "      <td>1256.44</td>\n",
              "      <td>1261.15</td>\n",
              "      <td>1764608</td>\n",
              "    </tr>\n",
              "    <tr>\n",
              "      <th>2020-04-17</th>\n",
              "      <td>1281.70</td>\n",
              "      <td>1290.00</td>\n",
              "      <td>1266.00</td>\n",
              "      <td>1279.00</td>\n",
              "      <td>2552824</td>\n",
              "    </tr>\n",
              "    <tr>\n",
              "      <th>...</th>\n",
              "      <td>...</td>\n",
              "      <td>...</td>\n",
              "      <td>...</td>\n",
              "      <td>...</td>\n",
              "      <td>...</td>\n",
              "    </tr>\n",
              "    <tr>\n",
              "      <th>2015-05-01</th>\n",
              "      <td>549.92</td>\n",
              "      <td>551.22</td>\n",
              "      <td>543.85</td>\n",
              "      <td>551.16</td>\n",
              "      <td>1828500</td>\n",
              "    </tr>\n",
              "    <tr>\n",
              "      <th>2015-04-30</th>\n",
              "      <td>558.56</td>\n",
              "      <td>561.11</td>\n",
              "      <td>546.72</td>\n",
              "      <td>548.77</td>\n",
              "      <td>2362000</td>\n",
              "    </tr>\n",
              "    <tr>\n",
              "      <th>2015-04-29</th>\n",
              "      <td>560.51</td>\n",
              "      <td>565.84</td>\n",
              "      <td>559.00</td>\n",
              "      <td>561.39</td>\n",
              "      <td>1681000</td>\n",
              "    </tr>\n",
              "    <tr>\n",
              "      <th>2015-04-28</th>\n",
              "      <td>564.32</td>\n",
              "      <td>567.83</td>\n",
              "      <td>560.96</td>\n",
              "      <td>564.37</td>\n",
              "      <td>1859787</td>\n",
              "    </tr>\n",
              "    <tr>\n",
              "      <th>2015-04-27</th>\n",
              "      <td>572.45</td>\n",
              "      <td>575.52</td>\n",
              "      <td>562.30</td>\n",
              "      <td>566.12</td>\n",
              "      <td>2403100</td>\n",
              "    </tr>\n",
              "  </tbody>\n",
              "</table>\n",
              "<p>1258 rows × 5 columns</p>\n",
              "</div>"
            ],
            "text/plain": [
              "              Open    High     Low   Close   Volume\n",
              "Date                                               \n",
              "2020-04-23 1265.74 1288.15 1260.53 1271.17  1710122\n",
              "2020-04-22 1241.11 1279.88 1237.20 1258.41  2315792\n",
              "2020-04-21 1242.71 1250.00 1205.00 1212.16  2482404\n",
              "2020-04-20 1269.89 1276.82 1256.44 1261.15  1764608\n",
              "2020-04-17 1281.70 1290.00 1266.00 1279.00  2552824\n",
              "...            ...     ...     ...     ...      ...\n",
              "2015-05-01  549.92  551.22  543.85  551.16  1828500\n",
              "2015-04-30  558.56  561.11  546.72  548.77  2362000\n",
              "2015-04-29  560.51  565.84  559.00  561.39  1681000\n",
              "2015-04-28  564.32  567.83  560.96  564.37  1859787\n",
              "2015-04-27  572.45  575.52  562.30  566.12  2403100\n",
              "\n",
              "[1258 rows x 5 columns]"
            ]
          },
          "metadata": {
            "tags": []
          },
          "execution_count": 20
        }
      ]
    },
    {
      "cell_type": "markdown",
      "metadata": {
        "id": "wxhpf-uq2B1I"
      },
      "source": [
        "### <a name='10'></a> Ćwiczenie 130\n",
        "Przypisz polskie nazwy kolumn (bez polskich znaków):\n",
        "* Open -> Otwarcie\n",
        "* High -> Najwyzszy\n",
        "* Low -> Najnizszy\n",
        "* Close -> Zamkniecie\n",
        "* Volume -> Wolumen\n",
        "\n",
        "do obiektu _google_. Wyświetl obiekt _google_."
      ]
    },
    {
      "cell_type": "code",
      "metadata": {
        "id": "YFc0KW6URsuc",
        "outputId": "0e6ba17d-c6d2-4596-c66e-7dc5d174282c",
        "colab": {
          "base_uri": "https://localhost:8080/",
          "height": 436
        }
      },
      "source": [
        "google.columns = ['Otwarcie', 'Najwyzszy', 'Najnizszy', 'Zamkniecie', 'Wolumen']\n",
        "google"
      ],
      "execution_count": null,
      "outputs": [
        {
          "output_type": "execute_result",
          "data": {
            "text/html": [
              "<div>\n",
              "<style scoped>\n",
              "    .dataframe tbody tr th:only-of-type {\n",
              "        vertical-align: middle;\n",
              "    }\n",
              "\n",
              "    .dataframe tbody tr th {\n",
              "        vertical-align: top;\n",
              "    }\n",
              "\n",
              "    .dataframe thead th {\n",
              "        text-align: right;\n",
              "    }\n",
              "</style>\n",
              "<table border=\"1\" class=\"dataframe\">\n",
              "  <thead>\n",
              "    <tr style=\"text-align: right;\">\n",
              "      <th></th>\n",
              "      <th>Otwarcie</th>\n",
              "      <th>Najwyzszy</th>\n",
              "      <th>Najnizszy</th>\n",
              "      <th>Zamkniecie</th>\n",
              "      <th>Wolumen</th>\n",
              "    </tr>\n",
              "    <tr>\n",
              "      <th>Date</th>\n",
              "      <th></th>\n",
              "      <th></th>\n",
              "      <th></th>\n",
              "      <th></th>\n",
              "      <th></th>\n",
              "    </tr>\n",
              "  </thead>\n",
              "  <tbody>\n",
              "    <tr>\n",
              "      <th>2020-04-23</th>\n",
              "      <td>1265.74</td>\n",
              "      <td>1288.15</td>\n",
              "      <td>1260.53</td>\n",
              "      <td>1271.17</td>\n",
              "      <td>1710122</td>\n",
              "    </tr>\n",
              "    <tr>\n",
              "      <th>2020-04-22</th>\n",
              "      <td>1241.11</td>\n",
              "      <td>1279.88</td>\n",
              "      <td>1237.20</td>\n",
              "      <td>1258.41</td>\n",
              "      <td>2315792</td>\n",
              "    </tr>\n",
              "    <tr>\n",
              "      <th>2020-04-21</th>\n",
              "      <td>1242.71</td>\n",
              "      <td>1250.00</td>\n",
              "      <td>1205.00</td>\n",
              "      <td>1212.16</td>\n",
              "      <td>2482404</td>\n",
              "    </tr>\n",
              "    <tr>\n",
              "      <th>2020-04-20</th>\n",
              "      <td>1269.89</td>\n",
              "      <td>1276.82</td>\n",
              "      <td>1256.44</td>\n",
              "      <td>1261.15</td>\n",
              "      <td>1764608</td>\n",
              "    </tr>\n",
              "    <tr>\n",
              "      <th>2020-04-17</th>\n",
              "      <td>1281.70</td>\n",
              "      <td>1290.00</td>\n",
              "      <td>1266.00</td>\n",
              "      <td>1279.00</td>\n",
              "      <td>2552824</td>\n",
              "    </tr>\n",
              "    <tr>\n",
              "      <th>...</th>\n",
              "      <td>...</td>\n",
              "      <td>...</td>\n",
              "      <td>...</td>\n",
              "      <td>...</td>\n",
              "      <td>...</td>\n",
              "    </tr>\n",
              "    <tr>\n",
              "      <th>2015-05-01</th>\n",
              "      <td>549.92</td>\n",
              "      <td>551.22</td>\n",
              "      <td>543.85</td>\n",
              "      <td>551.16</td>\n",
              "      <td>1828500</td>\n",
              "    </tr>\n",
              "    <tr>\n",
              "      <th>2015-04-30</th>\n",
              "      <td>558.56</td>\n",
              "      <td>561.11</td>\n",
              "      <td>546.72</td>\n",
              "      <td>548.77</td>\n",
              "      <td>2362000</td>\n",
              "    </tr>\n",
              "    <tr>\n",
              "      <th>2015-04-29</th>\n",
              "      <td>560.51</td>\n",
              "      <td>565.84</td>\n",
              "      <td>559.00</td>\n",
              "      <td>561.39</td>\n",
              "      <td>1681000</td>\n",
              "    </tr>\n",
              "    <tr>\n",
              "      <th>2015-04-28</th>\n",
              "      <td>564.32</td>\n",
              "      <td>567.83</td>\n",
              "      <td>560.96</td>\n",
              "      <td>564.37</td>\n",
              "      <td>1859787</td>\n",
              "    </tr>\n",
              "    <tr>\n",
              "      <th>2015-04-27</th>\n",
              "      <td>572.45</td>\n",
              "      <td>575.52</td>\n",
              "      <td>562.30</td>\n",
              "      <td>566.12</td>\n",
              "      <td>2403100</td>\n",
              "    </tr>\n",
              "  </tbody>\n",
              "</table>\n",
              "<p>1258 rows × 5 columns</p>\n",
              "</div>"
            ],
            "text/plain": [
              "            Otwarcie  Najwyzszy  Najnizszy  Zamkniecie  Wolumen\n",
              "Date                                                           \n",
              "2020-04-23   1265.74    1288.15    1260.53     1271.17  1710122\n",
              "2020-04-22   1241.11    1279.88    1237.20     1258.41  2315792\n",
              "2020-04-21   1242.71    1250.00    1205.00     1212.16  2482404\n",
              "2020-04-20   1269.89    1276.82    1256.44     1261.15  1764608\n",
              "2020-04-17   1281.70    1290.00    1266.00     1279.00  2552824\n",
              "...              ...        ...        ...         ...      ...\n",
              "2015-05-01    549.92     551.22     543.85      551.16  1828500\n",
              "2015-04-30    558.56     561.11     546.72      548.77  2362000\n",
              "2015-04-29    560.51     565.84     559.00      561.39  1681000\n",
              "2015-04-28    564.32     567.83     560.96      564.37  1859787\n",
              "2015-04-27    572.45     575.52     562.30      566.12  2403100\n",
              "\n",
              "[1258 rows x 5 columns]"
            ]
          },
          "metadata": {
            "tags": []
          },
          "execution_count": 21
        }
      ]
    },
    {
      "cell_type": "code",
      "metadata": {
        "id": "B6p2IR6690Oj"
      },
      "source": [],
      "execution_count": null,
      "outputs": []
    }
  ]
}